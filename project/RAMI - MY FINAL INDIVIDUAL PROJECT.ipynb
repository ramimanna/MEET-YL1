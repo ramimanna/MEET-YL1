{
 "metadata": {
  "name": ""
 },
 "nbformat": 3,
 "nbformat_minor": 0,
 "worksheets": [
  {
   "cells": [
    {
     "cell_type": "heading",
     "level": 1,
     "metadata": {},
     "source": [
      "Run this block of code only once!"
     ]
    },
    {
     "cell_type": "code",
     "collapsed": false,
     "input": [
      "import csv\n",
      "from pylab import *\n",
      "import time\n",
      "def awesome():\n",
      "    global year, n, number, boolean\n",
      "    n = raw_input('Please type a country or group name (e.g. United States, Russian Federation, Upper middle income, OECD members): ')\n",
      "    f = open(\"motor_vehicles.csv\",'rU')\n",
      "    reader = csv.reader(f)\n",
      "    year=[]\n",
      "    number=[]\n",
      "    rown=0\n",
      "    boolean=False\n",
      "    for row in reader:\n",
      "        if rown ==0:\n",
      "            b = row\n",
      "        place = 0\n",
      "        count = 0\n",
      "        if row[0] == n or row[0] == n+'\"':\n",
      "            boolean =True\n",
      "            for v in row:\n",
      "                if v!=\"\": \n",
      "                    count+=1\n",
      "                    if count >4:\n",
      "                        number.append(v)\n",
      "                        year.append(b[place])\n",
      "                place+=1\n",
      "        rown+=1\n",
      "    year = map(float,year)\n",
      "    number = map(float,number)\n",
      "    if boolean == False:\n",
      "        awesome()\n",
      "    f.close()\n",
      "#print len(year)\n",
      "#print len(number)\n",
      "def graph():\n",
      "    if boolean:\n",
      "        fig = plt.figure()\n",
      "        subplots_adjust(hspace=1)\n",
      "        ax = fig.add_subplot(2,1,1)\n",
      "        setp(plt.yticks()[1], rotation=30)\n",
      "        setp(plt.xticks()[1], rotation=330)\n",
      "        ax.ticklabel_format(axis='x', style='plain', useOffset=False)\n",
      "        ax.set_title(n + \": Motor vehicles (per 1,000)\")\n",
      "        ax.set_xlabel('Year')\n",
      "        ax.set_ylabel('Number of Motor Vehicles')\n",
      "        ax.scatter(year, number);\n",
      "        ax2 = fig.add_subplot(2,1,2)\n",
      "        ax2.set_title(n + \": Motor vehicles (per 1,000)\")\n",
      "        ax2.set_xlabel('Year')\n",
      "        ax2.set_ylabel('Number of Motor Vehicles')\n",
      "        ax2.plot(year, number, linewidth = 4.0)\n",
      "        ax2.ticklabel_format(axis='x', style='plain', useOffset=False)\n",
      "        ybounds = getp(ax2, 'ybound')\n",
      "        ymin = ybounds[0]\n",
      "        ymax = ybounds[1]\n",
      "        padding = (ymax-ymin)*.2\n",
      "        setp(ax2, ybound = (ymin-padding, ymax+padding))\n",
      "        fig.savefig(n + \".png\")\n",
      "#FOR GRAPHING IN NEXT CELL::\n",
      "#OPTION 1 - Upload the saved PNG with:\n",
      "#from IPython.core.display import Image \n",
      "#src = n + '.png'\n",
      "#Image(src)\n",
      "\n",
      "#Option 2 - Display the graphs: graph() "
     ],
     "language": "python",
     "metadata": {},
     "outputs": []
    },
    {
     "cell_type": "heading",
     "level": 1,
     "metadata": {},
     "source": [
      "Hey you! Are you from MEET? Check out my project on Motor Vehicles"
     ]
    },
    {
     "cell_type": "code",
     "collapsed": false,
     "input": [
      "awesome()\n",
      "graph()"
     ],
     "language": "python",
     "metadata": {},
     "outputs": []
    },
    {
     "cell_type": "heading",
     "level": 2,
     "metadata": {},
     "source": [
      "These graphs show the change in number of motor vehicles per 1,000 people. The graphs have now been saved to your computer. Test out a few more countries and groups and see what you get!"
     ]
    }
   ],
   "metadata": {}
  }
 ]
}