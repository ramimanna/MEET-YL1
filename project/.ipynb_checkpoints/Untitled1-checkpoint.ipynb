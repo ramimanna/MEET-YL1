{
 "metadata": {
  "name": ""
 },
 "nbformat": 3,
 "nbformat_minor": 0,
 "worksheets": [
  {
   "cells": [
    {
     "cell_type": "code",
     "collapsed": false,
     "input": [
      "import csv\n",
      "from pylab import *\n",
      "def awesome(): \n",
      "    global year, number, boolean, n\n",
      "    n = raw_input('Please type a country name: ')\n",
      "    f = open(\"motor_vehicles.csv\",'rb')\n",
      "    reader = csv.reader(f)\n",
      "    year=[]\n",
      "    number=[]\n",
      "    rown=0\n",
      "    boolean=False\n",
      "    for row in reader:\n",
      "        if rown ==0:\n",
      "            b = row\n",
      "        place = 0\n",
      "        count = 0\n",
      "        if row[0] == n:\n",
      "            boolean =True\n",
      "            for v in row:\n",
      "                if v!=\"\": \n",
      "                    count+=1\n",
      "                    if count >4:\n",
      "                        number.append(v)\n",
      "                        year.append(b[place])\n",
      "                place+=1\n",
      "        rown+=1\n",
      "    year = map(float,year)\n",
      "    number = map(float,number)\n",
      "    f.close()\n"
     ],
     "language": "python",
     "metadata": {},
     "outputs": [],
     "prompt_number": "*"
    },
    {
     "cell_type": "code",
     "collapsed": false,
     "input": [
      "while True:\n",
      "    awesome()\n",
      "    if boolean:\n",
      "        fig = plt.figure()\n",
      "        ax = fig.add_subplot(1,1,1)\n",
      "        ax.set_title(n + \": Motor vehicles (per 1,000)\")\n",
      "        ax.set_xlabel('Year')\n",
      "        ax.set_ylabel('Number of Motor Vehicles')\n",
      "        ax.scatter(year, number)\n",
      "        fig.savefig(n + \".png\")"
     ],
     "language": "python",
     "metadata": {},
     "outputs": [],
     "prompt_number": "*"
    }
   ],
   "metadata": {}
  }
 ]
}